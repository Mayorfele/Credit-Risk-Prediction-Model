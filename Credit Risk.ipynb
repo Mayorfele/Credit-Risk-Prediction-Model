{
 "cells": [
  {
   "cell_type": "code",
   "execution_count": 165,
   "id": "5d65690d-2c62-4ac1-894b-333e470d9a1b",
   "metadata": {
    "tags": []
   },
   "outputs": [],
   "source": [
    "# Import necessary libraries\n",
    "import pandas as pd\n",
    "import numpy as np\n",
    "import matplotlib.pyplot as plt\n",
    "import seaborn as sns\n",
    "from sklearn.model_selection import train_test_split\n",
    "from sklearn.preprocessing import OneHotEncoder\n",
    "import warnings\n",
    "warnings.filterwarnings('ignore') \n"
   ]
  },
  {
   "cell_type": "code",
   "execution_count": null,
   "id": "fea19ba0-4743-4c96-965a-1b2158320679",
   "metadata": {},
   "outputs": [],
   "source": []
  },
  {
   "cell_type": "code",
   "execution_count": 166,
   "id": "dd369dbd-f441-4588-9080-ad6c9ebaab8d",
   "metadata": {
    "tags": []
   },
   "outputs": [],
   "source": [
    "loan_df = pd.read_csv('credit_risk_dataset.csv')"
   ]
  },
  {
   "cell_type": "code",
   "execution_count": null,
   "id": "af393dce-f56d-453f-b5df-ebce3df9cba2",
   "metadata": {},
   "outputs": [],
   "source": []
  },
  {
   "cell_type": "code",
   "execution_count": 167,
   "id": "e7f8528e-b2ca-4c2a-ba35-809573d4bd7c",
   "metadata": {
    "tags": []
   },
   "outputs": [],
   "source": [
    "loan_df.replace([np.inf, -np.inf], np.nan, inplace=True)"
   ]
  },
  {
   "cell_type": "code",
   "execution_count": 168,
   "id": "4579f614-1a6a-4904-8574-378ac011efd4",
   "metadata": {
    "tags": []
   },
   "outputs": [
    {
     "data": {
      "text/html": [
       "<div>\n",
       "<style scoped>\n",
       "    .dataframe tbody tr th:only-of-type {\n",
       "        vertical-align: middle;\n",
       "    }\n",
       "\n",
       "    .dataframe tbody tr th {\n",
       "        vertical-align: top;\n",
       "    }\n",
       "\n",
       "    .dataframe thead th {\n",
       "        text-align: right;\n",
       "    }\n",
       "</style>\n",
       "<table border=\"1\" class=\"dataframe\">\n",
       "  <thead>\n",
       "    <tr style=\"text-align: right;\">\n",
       "      <th></th>\n",
       "      <th>person_age</th>\n",
       "      <th>person_income</th>\n",
       "      <th>person_home_ownership</th>\n",
       "      <th>person_emp_length</th>\n",
       "      <th>loan_intent</th>\n",
       "      <th>loan_grade</th>\n",
       "      <th>loan_amnt</th>\n",
       "      <th>loan_int_rate</th>\n",
       "      <th>loan_status</th>\n",
       "      <th>loan_percent_income</th>\n",
       "      <th>cb_person_default_on_file</th>\n",
       "      <th>cb_person_cred_hist_length</th>\n",
       "    </tr>\n",
       "  </thead>\n",
       "  <tbody>\n",
       "    <tr>\n",
       "      <th>0</th>\n",
       "      <td>22</td>\n",
       "      <td>59000</td>\n",
       "      <td>RENT</td>\n",
       "      <td>123.0</td>\n",
       "      <td>PERSONAL</td>\n",
       "      <td>D</td>\n",
       "      <td>35000</td>\n",
       "      <td>16.02</td>\n",
       "      <td>1</td>\n",
       "      <td>0.59</td>\n",
       "      <td>Y</td>\n",
       "      <td>3</td>\n",
       "    </tr>\n",
       "    <tr>\n",
       "      <th>1</th>\n",
       "      <td>21</td>\n",
       "      <td>9600</td>\n",
       "      <td>OWN</td>\n",
       "      <td>5.0</td>\n",
       "      <td>EDUCATION</td>\n",
       "      <td>B</td>\n",
       "      <td>1000</td>\n",
       "      <td>11.14</td>\n",
       "      <td>0</td>\n",
       "      <td>0.10</td>\n",
       "      <td>N</td>\n",
       "      <td>2</td>\n",
       "    </tr>\n",
       "    <tr>\n",
       "      <th>2</th>\n",
       "      <td>25</td>\n",
       "      <td>9600</td>\n",
       "      <td>MORTGAGE</td>\n",
       "      <td>1.0</td>\n",
       "      <td>MEDICAL</td>\n",
       "      <td>C</td>\n",
       "      <td>5500</td>\n",
       "      <td>12.87</td>\n",
       "      <td>1</td>\n",
       "      <td>0.57</td>\n",
       "      <td>N</td>\n",
       "      <td>3</td>\n",
       "    </tr>\n",
       "    <tr>\n",
       "      <th>3</th>\n",
       "      <td>23</td>\n",
       "      <td>65500</td>\n",
       "      <td>RENT</td>\n",
       "      <td>4.0</td>\n",
       "      <td>MEDICAL</td>\n",
       "      <td>C</td>\n",
       "      <td>35000</td>\n",
       "      <td>15.23</td>\n",
       "      <td>1</td>\n",
       "      <td>0.53</td>\n",
       "      <td>N</td>\n",
       "      <td>2</td>\n",
       "    </tr>\n",
       "    <tr>\n",
       "      <th>4</th>\n",
       "      <td>24</td>\n",
       "      <td>54400</td>\n",
       "      <td>RENT</td>\n",
       "      <td>8.0</td>\n",
       "      <td>MEDICAL</td>\n",
       "      <td>C</td>\n",
       "      <td>35000</td>\n",
       "      <td>14.27</td>\n",
       "      <td>1</td>\n",
       "      <td>0.55</td>\n",
       "      <td>Y</td>\n",
       "      <td>4</td>\n",
       "    </tr>\n",
       "    <tr>\n",
       "      <th>...</th>\n",
       "      <td>...</td>\n",
       "      <td>...</td>\n",
       "      <td>...</td>\n",
       "      <td>...</td>\n",
       "      <td>...</td>\n",
       "      <td>...</td>\n",
       "      <td>...</td>\n",
       "      <td>...</td>\n",
       "      <td>...</td>\n",
       "      <td>...</td>\n",
       "      <td>...</td>\n",
       "      <td>...</td>\n",
       "    </tr>\n",
       "    <tr>\n",
       "      <th>32576</th>\n",
       "      <td>57</td>\n",
       "      <td>53000</td>\n",
       "      <td>MORTGAGE</td>\n",
       "      <td>1.0</td>\n",
       "      <td>PERSONAL</td>\n",
       "      <td>C</td>\n",
       "      <td>5800</td>\n",
       "      <td>13.16</td>\n",
       "      <td>0</td>\n",
       "      <td>0.11</td>\n",
       "      <td>N</td>\n",
       "      <td>30</td>\n",
       "    </tr>\n",
       "    <tr>\n",
       "      <th>32577</th>\n",
       "      <td>54</td>\n",
       "      <td>120000</td>\n",
       "      <td>MORTGAGE</td>\n",
       "      <td>4.0</td>\n",
       "      <td>PERSONAL</td>\n",
       "      <td>A</td>\n",
       "      <td>17625</td>\n",
       "      <td>7.49</td>\n",
       "      <td>0</td>\n",
       "      <td>0.15</td>\n",
       "      <td>N</td>\n",
       "      <td>19</td>\n",
       "    </tr>\n",
       "    <tr>\n",
       "      <th>32578</th>\n",
       "      <td>65</td>\n",
       "      <td>76000</td>\n",
       "      <td>RENT</td>\n",
       "      <td>3.0</td>\n",
       "      <td>HOMEIMPROVEMENT</td>\n",
       "      <td>B</td>\n",
       "      <td>35000</td>\n",
       "      <td>10.99</td>\n",
       "      <td>1</td>\n",
       "      <td>0.46</td>\n",
       "      <td>N</td>\n",
       "      <td>28</td>\n",
       "    </tr>\n",
       "    <tr>\n",
       "      <th>32579</th>\n",
       "      <td>56</td>\n",
       "      <td>150000</td>\n",
       "      <td>MORTGAGE</td>\n",
       "      <td>5.0</td>\n",
       "      <td>PERSONAL</td>\n",
       "      <td>B</td>\n",
       "      <td>15000</td>\n",
       "      <td>11.48</td>\n",
       "      <td>0</td>\n",
       "      <td>0.10</td>\n",
       "      <td>N</td>\n",
       "      <td>26</td>\n",
       "    </tr>\n",
       "    <tr>\n",
       "      <th>32580</th>\n",
       "      <td>66</td>\n",
       "      <td>42000</td>\n",
       "      <td>RENT</td>\n",
       "      <td>2.0</td>\n",
       "      <td>MEDICAL</td>\n",
       "      <td>B</td>\n",
       "      <td>6475</td>\n",
       "      <td>9.99</td>\n",
       "      <td>0</td>\n",
       "      <td>0.15</td>\n",
       "      <td>N</td>\n",
       "      <td>30</td>\n",
       "    </tr>\n",
       "  </tbody>\n",
       "</table>\n",
       "<p>32581 rows × 12 columns</p>\n",
       "</div>"
      ],
      "text/plain": [
       "       person_age  person_income person_home_ownership  person_emp_length  \\\n",
       "0              22          59000                  RENT              123.0   \n",
       "1              21           9600                   OWN                5.0   \n",
       "2              25           9600              MORTGAGE                1.0   \n",
       "3              23          65500                  RENT                4.0   \n",
       "4              24          54400                  RENT                8.0   \n",
       "...           ...            ...                   ...                ...   \n",
       "32576          57          53000              MORTGAGE                1.0   \n",
       "32577          54         120000              MORTGAGE                4.0   \n",
       "32578          65          76000                  RENT                3.0   \n",
       "32579          56         150000              MORTGAGE                5.0   \n",
       "32580          66          42000                  RENT                2.0   \n",
       "\n",
       "           loan_intent loan_grade  loan_amnt  loan_int_rate  loan_status  \\\n",
       "0             PERSONAL          D      35000          16.02            1   \n",
       "1            EDUCATION          B       1000          11.14            0   \n",
       "2              MEDICAL          C       5500          12.87            1   \n",
       "3              MEDICAL          C      35000          15.23            1   \n",
       "4              MEDICAL          C      35000          14.27            1   \n",
       "...                ...        ...        ...            ...          ...   \n",
       "32576         PERSONAL          C       5800          13.16            0   \n",
       "32577         PERSONAL          A      17625           7.49            0   \n",
       "32578  HOMEIMPROVEMENT          B      35000          10.99            1   \n",
       "32579         PERSONAL          B      15000          11.48            0   \n",
       "32580          MEDICAL          B       6475           9.99            0   \n",
       "\n",
       "       loan_percent_income cb_person_default_on_file  \\\n",
       "0                     0.59                         Y   \n",
       "1                     0.10                         N   \n",
       "2                     0.57                         N   \n",
       "3                     0.53                         N   \n",
       "4                     0.55                         Y   \n",
       "...                    ...                       ...   \n",
       "32576                 0.11                         N   \n",
       "32577                 0.15                         N   \n",
       "32578                 0.46                         N   \n",
       "32579                 0.10                         N   \n",
       "32580                 0.15                         N   \n",
       "\n",
       "       cb_person_cred_hist_length  \n",
       "0                               3  \n",
       "1                               2  \n",
       "2                               3  \n",
       "3                               2  \n",
       "4                               4  \n",
       "...                           ...  \n",
       "32576                          30  \n",
       "32577                          19  \n",
       "32578                          28  \n",
       "32579                          26  \n",
       "32580                          30  \n",
       "\n",
       "[32581 rows x 12 columns]"
      ]
     },
     "execution_count": 168,
     "metadata": {},
     "output_type": "execute_result"
    }
   ],
   "source": [
    "loan_df"
   ]
  },
  {
   "cell_type": "code",
   "execution_count": 169,
   "id": "f196e3c4-fe9b-4f5f-a393-371bf4dfa588",
   "metadata": {
    "tags": []
   },
   "outputs": [
    {
     "name": "stdout",
     "output_type": "stream",
     "text": [
      "<class 'pandas.core.frame.DataFrame'>\n",
      "RangeIndex: 32581 entries, 0 to 32580\n",
      "Data columns (total 12 columns):\n",
      " #   Column                      Non-Null Count  Dtype  \n",
      "---  ------                      --------------  -----  \n",
      " 0   person_age                  32581 non-null  int64  \n",
      " 1   person_income               32581 non-null  int64  \n",
      " 2   person_home_ownership       32581 non-null  object \n",
      " 3   person_emp_length           31686 non-null  float64\n",
      " 4   loan_intent                 32581 non-null  object \n",
      " 5   loan_grade                  32581 non-null  object \n",
      " 6   loan_amnt                   32581 non-null  int64  \n",
      " 7   loan_int_rate               29465 non-null  float64\n",
      " 8   loan_status                 32581 non-null  int64  \n",
      " 9   loan_percent_income         32581 non-null  float64\n",
      " 10  cb_person_default_on_file   32581 non-null  object \n",
      " 11  cb_person_cred_hist_length  32581 non-null  int64  \n",
      "dtypes: float64(3), int64(5), object(4)\n",
      "memory usage: 3.0+ MB\n"
     ]
    }
   ],
   "source": [
    "loan_df.info()"
   ]
  },
  {
   "cell_type": "code",
   "execution_count": 170,
   "id": "dd6d741e-7eaf-402b-bbf6-fab97b7a13c7",
   "metadata": {
    "tags": []
   },
   "outputs": [
    {
     "data": {
      "text/plain": [
       "person_age                       0\n",
       "person_income                    0\n",
       "person_home_ownership            0\n",
       "person_emp_length              895\n",
       "loan_intent                      0\n",
       "loan_grade                       0\n",
       "loan_amnt                        0\n",
       "loan_int_rate                 3116\n",
       "loan_status                      0\n",
       "loan_percent_income              0\n",
       "cb_person_default_on_file        0\n",
       "cb_person_cred_hist_length       0\n",
       "dtype: int64"
      ]
     },
     "execution_count": 170,
     "metadata": {},
     "output_type": "execute_result"
    }
   ],
   "source": [
    "loan_df.isnull().sum()"
   ]
  },
  {
   "cell_type": "code",
   "execution_count": 171,
   "id": "f26d611f-a0a3-4b2e-b08c-59446c9c2859",
   "metadata": {
    "tags": []
   },
   "outputs": [],
   "source": [
    "# Set background and palette\n",
    "sns.set(rc={\"axes.facecolor\": \"#E0FFFF\", \"figure.facecolor\": \"#E0FFFF\"})\n",
    "custom_palette = [\"#FF6347\", \"#32CD32\", \"#4169E1\", \"#FFD700\", \"#FF69B4\", \"#00FFFF\"]\n",
    "sns.set_palette(custom_palette)"
   ]
  },
  {
   "cell_type": "code",
   "execution_count": 172,
   "id": "5ac49c8c-08d6-4911-9a9d-f56b5a37e3eb",
   "metadata": {
    "tags": []
   },
   "outputs": [
    {
     "data": {
      "image/png": "[encoded data removed]",
      "text/plain": [
       "<Figure size 800x600 with 1 Axes>"
      ]
     },
     "metadata": {},
     "output_type": "display_data"
    }
   ],
   "source": [
    "\n",
    "# Plot histogram for 'person_emp_length'\n",
    "plt.figure(figsize=(8, 6))\n",
    "sns.histplot(loan_df['person_emp_length'], bins=30, kde=True, color='blue')\n",
    "\n",
    "# Add a vertical line for the mean\n",
    "mean_value = loan_df['person_emp_length'].mean()\n",
    "plt.axvline(mean_value, color='red', linestyle='dashed', linewidth=2, label=f'Mean: {mean_value:.2f}')\n",
    "\n",
    "# Add a vertical line for the median\n",
    "median_value = loan_df['person_emp_length'].median()\n",
    "plt.axvline(median_value, color='green', linestyle='dashed', linewidth=2, label=f'Median: {median_value:.2f}')\n",
    "\n",
    "plt.title('Histogram of person_emp_length with Mean and Median')\n",
    "plt.legend()\n",
    "plt.show()\n"
   ]
  },
  {
   "cell_type": "raw",
   "id": "3660e11a-ee6d-4014-bd48-b5dd05c05ff1",
   "metadata": {},
   "source": [
    "We can see here that the distribution is very skewed hence median best fits the missing values"
   ]
  },
  {
   "cell_type": "code",
   "execution_count": 173,
   "id": "34b39f07-4d88-412d-a762-9242aa73beb5",
   "metadata": {
    "tags": []
   },
   "outputs": [],
   "source": [
    "# filing using the median\n",
    "loan_df['person_emp_length'].fillna(loan_df['person_emp_length'].median(), inplace=True)"
   ]
  },
  {
   "cell_type": "code",
   "execution_count": 174,
   "id": "a5b82b55-8928-4f3d-a0dc-095e60afbb94",
   "metadata": {
    "tags": []
   },
   "outputs": [
    {
     "data": {
      "image/png": "[encoded data removed]",
      "text/plain": [
       "<Figure size 800x600 with 1 Axes>"
      ]
     },
     "metadata": {},
     "output_type": "display_data"
    }
   ],
   "source": [
    "# Plot histogram for 'loan_int_rate'\n",
    "plt.figure(figsize=(8, 6))\n",
    "sns.histplot(loan_df['loan_int_rate'], bins=30, kde=True, color='blue')\n",
    "\n",
    "# Add a vertical line for the mean\n",
    "mean_value = loan_df['loan_int_rate'].mean()\n",
    "plt.axvline(mean_value, color='red', linestyle='dashed', linewidth=2, label=f'Mean: {mean_value:.2f}')\n",
    "\n",
    "# Add a vertical line for the median\n",
    "median_value = loan_df['loan_int_rate'].median()\n",
    "plt.axvline(median_value, color='green', linestyle='dashed', linewidth=2, label=f'Median: {median_value:.2f}')\n",
    "\n",
    "plt.title('Histogram of loan_int_rate with Mean and Median')\n",
    "plt.legend()\n",
    "plt.show()"
   ]
  },
  {
   "cell_type": "raw",
   "id": "017e4414-547d-48c9-a0f2-b8998d02ab1d",
   "metadata": {},
   "source": [
    "This one, unlike the previous one is more even, and is not heavily skewed. Hence the mean fits better\n"
   ]
  },
  {
   "cell_type": "code",
   "execution_count": 175,
   "id": "5293ab97-8fbf-4045-ba38-978e9fce5294",
   "metadata": {
    "tags": []
   },
   "outputs": [],
   "source": [
    "# filing using the mean\n",
    "loan_df['loan_int_rate'].fillna(loan_df['loan_int_rate'].mean(), inplace=True)"
   ]
  },
  {
   "cell_type": "code",
   "execution_count": 176,
   "id": "76b69699-4fc4-437b-96d2-d66af936b55f",
   "metadata": {
    "tags": []
   },
   "outputs": [
    {
     "name": "stdout",
     "output_type": "stream",
     "text": [
      "<class 'pandas.core.frame.DataFrame'>\n",
      "RangeIndex: 32581 entries, 0 to 32580\n",
      "Data columns (total 12 columns):\n",
      " #   Column                      Non-Null Count  Dtype  \n",
      "---  ------                      --------------  -----  \n",
      " 0   person_age                  32581 non-null  int64  \n",
      " 1   person_income               32581 non-null  int64  \n",
      " 2   person_home_ownership       32581 non-null  object \n",
      " 3   person_emp_length           32581 non-null  float64\n",
      " 4   loan_intent                 32581 non-null  object \n",
      " 5   loan_grade                  32581 non-null  object \n",
      " 6   loan_amnt                   32581 non-null  int64  \n",
      " 7   loan_int_rate               32581 non-null  float64\n",
      " 8   loan_status                 32581 non-null  int64  \n",
      " 9   loan_percent_income         32581 non-null  float64\n",
      " 10  cb_person_default_on_file   32581 non-null  object \n",
      " 11  cb_person_cred_hist_length  32581 non-null  int64  \n",
      "dtypes: float64(3), int64(5), object(4)\n",
      "memory usage: 3.0+ MB\n"
     ]
    }
   ],
   "source": [
    "loan_df.info()"
   ]
  },
  {
   "cell_type": "code",
   "execution_count": 177,
   "id": "13000d38-64b1-4711-917a-3c829df51a9e",
   "metadata": {
    "tags": []
   },
   "outputs": [
    {
     "data": {
      "text/plain": [
       "person_age                    0\n",
       "person_income                 0\n",
       "person_home_ownership         0\n",
       "person_emp_length             0\n",
       "loan_intent                   0\n",
       "loan_grade                    0\n",
       "loan_amnt                     0\n",
       "loan_int_rate                 0\n",
       "loan_status                   0\n",
       "loan_percent_income           0\n",
       "cb_person_default_on_file     0\n",
       "cb_person_cred_hist_length    0\n",
       "dtype: int64"
      ]
     },
     "execution_count": 177,
     "metadata": {},
     "output_type": "execute_result"
    }
   ],
   "source": [
    "loan_df.isnull().sum()"
   ]
  },
  {
   "cell_type": "markdown",
   "id": "7a547888-4ecb-40a3-a056-e032d3214301",
   "metadata": {},
   "source": [
    "FEATURE ENGINEERING"
   ]
  },
  {
   "cell_type": "code",
   "execution_count": 178,
   "id": "32b12ce9-b124-480a-a9c2-4bfbcd7cd423",
   "metadata": {
    "tags": []
   },
   "outputs": [],
   "source": [
    "min_loan_amnt = loan_df['loan_amnt'].min()\n",
    "\n",
    "# Loan Amount Grouping\n",
    "loan_df['loan_group'] = pd.cut(loan_df['loan_amnt'],\n",
    "                            bins = [min_loan_amnt - 1, 5000, 10000, 15000, float('inf')],\n",
    "                            labels = ['small', 'medium', 'large', 'very large'])\n"
   ]
  },
  {
   "cell_type": "code",
   "execution_count": 179,
   "id": "b16fa910-3b68-4415-a71a-912b60fff927",
   "metadata": {
    "tags": []
   },
   "outputs": [],
   "source": [
    "#Income grouping\n",
    "\n",
    "loan_df['Income_range'] = pd.cut(loan_df['person_income'],\n",
    "                              bins=[0, 25000, 50000, 75000, 100000, float('inf')],\n",
    "                              labels=['low', 'low-middle', 'middle', 'high-middle', 'high'])"
   ]
  },
  {
   "cell_type": "code",
   "execution_count": 181,
   "id": "32381199-8d03-4c59-9086-b6091a094a4d",
   "metadata": {
    "tags": []
   },
   "outputs": [
    {
     "name": "stdout",
     "output_type": "stream",
     "text": [
      "maximum Age 144\n",
      "minimum Age 20\n",
      "Age between 21 and 30: Number of people 24809\n",
      "Age between 31 and 40: Number of people 6263\n",
      "Age between 41 and 50: Number of people 1206\n",
      "Age between 51 and 60: Number of people 218\n",
      "Age between 61 and 70: Number of people 57\n",
      "Age between 71 and 80: Number of people 6\n"
     ]
    }
   ],
   "source": [
    "#MAX AND MIN AGE\n",
    "max_ = loan_df['person_age'].max()\n",
    "min_ = loan_df['person_age'].min()\n",
    "print(f\"maximum Age {max_}\")\n",
    "print(f\"minimum Age {min_}\")\n",
    "\n",
    "# people with an age between x and y\n",
    "def age_range(arr):\n",
    "    lenarr = len(arr)\n",
    "    for i in range(lenarr - 1):\n",
    "        next_age = arr[i] + 1\n",
    "        num_people = loan_df['person_age'].between(next_age, arr[i + 1]).sum()\n",
    "        print(f'Age between {next_age} and {arr[i + 1]}: Number of people {num_people}')\n",
    "        \n",
    "age_ranges = [20, 30, 40, 50, 60, 70, 80]\n",
    "age_range(age_ranges)"
   ]
  },
  {
   "cell_type": "code",
   "execution_count": 182,
   "id": "90915b73-26b3-4723-824f-bfe97542bf01",
   "metadata": {
    "tags": []
   },
   "outputs": [
    {
     "name": "stdout",
     "output_type": "stream",
     "text": [
      "maximum income 6000000\n",
      "minimum income 4000\n",
      "Income between 1 and 25000: Number of people 2469\n",
      "Income between 25001 and 50000: Number of people 11613\n",
      "Income between 50001 and 75000: Number of people 9622\n",
      "Income between 75001 and 100000: Number of people 4670\n",
      "Income between 100001 and inf: Number of people 4207\n"
     ]
    }
   ],
   "source": [
    "max_ = loan_df['person_income'].max()\n",
    "min_ = loan_df['person_income'].min()\n",
    "print(f\"maximum income {max_}\")\n",
    "print(f\"minimum income {min_}\")\n",
    "\n",
    "# people with an age between x and y\n",
    "def income_range(arr):\n",
    "    lenarr = len(arr)\n",
    "    for i in range(lenarr - 1):\n",
    "        next_income = arr[i] + 1\n",
    "        num_people = loan_df['person_income'].between(next_income, arr[i + 1]).sum()\n",
    "        print(f'Income between {next_income} and {arr[i + 1]}: Number of people {num_people}')\n",
    "        \n",
    "income_ranges = [0, 25000, 50000, 75000, 100000, float('inf')]\n",
    "income_range(income_ranges)"
   ]
  },
  {
   "cell_type": "code",
   "execution_count": 183,
   "id": "73a540ba-5f42-4aa6-b11a-78af3c919f53",
   "metadata": {
    "tags": []
   },
   "outputs": [
    {
     "name": "stdout",
     "output_type": "stream",
     "text": [
      "maximum loan 35000\n",
      "minimum loan 500\n",
      "loan between 500 and 5000: Number of people 9487\n",
      "loan between 5001 and 10000: Number of people 12037\n",
      "loan between 10001 and 15000: Number of people 6123\n",
      "loan between 15001 and inf: Number of people 4925\n"
     ]
    }
   ],
   "source": [
    "max_loan = loan_df['loan_amnt'].max()\n",
    "min_loan = loan_df['loan_amnt'].min()\n",
    "print(f\"maximum loan {max_loan}\")\n",
    "print(f\"minimum loan {min_loan}\")\n",
    "\n",
    "# people with an age between x and y\n",
    "def loan_range(arr):\n",
    "    lenarr = len(arr)\n",
    "    for i in range(lenarr - 1):\n",
    "        next_loan = arr[i] + 1\n",
    "        num_people = train_df['loan_amnt'].between(next_loan, arr[i + 1]).sum()\n",
    "        print(f'loan between {next_loan} and {arr[i + 1]}: Number of people {num_people}')\n",
    "        \n",
    "loan_ranges = [min_loan_amnt - 1, 5000, 10000, 15000, float('inf')]\n",
    "loan_range(loan_ranges)"
   ]
  },
  {
   "cell_type": "raw",
   "id": "3ba6ce5e-5310-41c8-92cf-b7f067edb5db",
   "metadata": {},
   "source": [
    "Observations: Most of the People taking a loan don't own their own house-- at least 90%"
   ]
  },
  {
   "cell_type": "code",
   "execution_count": 185,
   "id": "309ebb74-01b2-4ba8-b8cf-0479326afc34",
   "metadata": {
    "tags": []
   },
   "outputs": [],
   "source": [
    "loan_df = loan_df.drop(train_df[loan_df['person_age'] > 80].index, axis=0)\n",
    "#dropping age above 80"
   ]
  },
  {
   "cell_type": "code",
   "execution_count": 186,
   "id": "13ffd945-d5de-4877-843a-aaf8d7e7d342",
   "metadata": {
    "tags": []
   },
   "outputs": [],
   "source": [
    "loan_df['age_range'] = pd.cut(loan_df['person_age'],\n",
    "                           bins=[10, 20, 30, 40, 50, 60, 70, 80],\n",
    "                           labels=['10-20', '20-30', '30-40', '40-50', '50-60', '60-70', '70-80'])"
   ]
  },
  {
   "cell_type": "code",
   "execution_count": 187,
   "id": "f3177d69-7b78-497a-8de6-7789f54a7d9b",
   "metadata": {
    "tags": []
   },
   "outputs": [
    {
     "data": {
      "text/plain": [
       "CategoricalDtype(categories=['10-20', '20-30', '30-40', '40-50', '50-60', '60-70',\n",
       "                  '70-80'],\n",
       ", ordered=True, categories_dtype=object)"
      ]
     },
     "execution_count": 187,
     "metadata": {},
     "output_type": "execute_result"
    }
   ],
   "source": [
    "loan_df['age_range'].dtype"
   ]
  },
  {
   "cell_type": "code",
   "execution_count": 189,
   "id": "a6be852d-98a2-4292-b279-e37b70ede233",
   "metadata": {
    "tags": []
   },
   "outputs": [],
   "source": [
    "loan_df = loan_df.drop(train_df[loan_df['person_emp_length'] > 60].index, axis=0)"
   ]
  },
  {
   "cell_type": "code",
   "execution_count": 190,
   "id": "354944e9-1f7c-429d-b55b-15e8f3798a72",
   "metadata": {
    "tags": []
   },
   "outputs": [
    {
     "name": "stdout",
     "output_type": "stream",
     "text": [
      "<class 'pandas.core.frame.DataFrame'>\n",
      "RangeIndex: 32581 entries, 0 to 32580\n",
      "Data columns (total 15 columns):\n",
      " #   Column                      Non-Null Count  Dtype   \n",
      "---  ------                      --------------  -----   \n",
      " 0   person_age                  32581 non-null  int64   \n",
      " 1   person_income               32581 non-null  int64   \n",
      " 2   person_home_ownership       32581 non-null  object  \n",
      " 3   person_emp_length           32581 non-null  float64 \n",
      " 4   loan_intent                 32581 non-null  object  \n",
      " 5   loan_grade                  32581 non-null  object  \n",
      " 6   loan_amnt                   32581 non-null  int64   \n",
      " 7   loan_int_rate               32581 non-null  float64 \n",
      " 8   loan_status                 32581 non-null  int64   \n",
      " 9   loan_percent_income         32581 non-null  float64 \n",
      " 10  cb_person_default_on_file   32581 non-null  object  \n",
      " 11  cb_person_cred_hist_length  32581 non-null  int64   \n",
      " 12  loan_group                  32581 non-null  category\n",
      " 13  Income_range                32581 non-null  category\n",
      " 14  age_range                   32574 non-null  category\n",
      "dtypes: category(3), float64(3), int64(5), object(4)\n",
      "memory usage: 3.1+ MB\n"
     ]
    }
   ],
   "source": [
    "loan_df.info()"
   ]
  },
  {
   "cell_type": "code",
   "execution_count": 191,
   "id": "afe91312-8a37-4b90-925d-282f26d3615a",
   "metadata": {
    "tags": []
   },
   "outputs": [],
   "source": [
    "# Create loan-to-income ratio\n",
    "loan_df['loan_to_income_ratio'] = loan_df['loan_amnt'] / loan_df['person_income']\n",
    "\n",
    "# Create loan-to-employment length ratio\n",
    "loan_df['loan_to_emp_length_ratio'] =  loan_df['person_emp_length']/ loan_df['loan_amnt'] \n",
    "\n",
    "# Create interest rate-to-loan amount ratio\n",
    "loan_df['int_rate_to_loan_amt_ratio'] = loan_df['loan_int_rate'] / loan_df['loan_amnt']"
   ]
  },
  {
   "cell_type": "code",
   "execution_count": 192,
   "id": "eabb6e96-656b-4bb8-a171-a20e387755b8",
   "metadata": {
    "tags": []
   },
   "outputs": [
    {
     "data": {
      "text/plain": [
       "Index(['person_age', 'person_income', 'person_home_ownership',\n",
       "       'person_emp_length', 'loan_intent', 'loan_grade', 'loan_amnt',\n",
       "       'loan_int_rate', 'loan_status', 'loan_percent_income',\n",
       "       'cb_person_default_on_file', 'cb_person_cred_hist_length', 'loan_group',\n",
       "       'Income_range', 'age_range', 'loan_to_income_ratio',\n",
       "       'loan_to_emp_length_ratio', 'int_rate_to_loan_amt_ratio'],\n",
       "      dtype='object')"
      ]
     },
     "execution_count": 192,
     "metadata": {},
     "output_type": "execute_result"
    }
   ],
   "source": [
    "loan_df.columns"
   ]
  },
  {
   "cell_type": "code",
   "execution_count": 196,
   "id": "c3c6bcb0-187c-47bd-8d0c-2d13696dc5db",
   "metadata": {},
   "outputs": [
    {
     "name": "stdout",
     "output_type": "stream",
     "text": [
      "<class 'pandas.core.frame.DataFrame'>\n",
      "RangeIndex: 32581 entries, 0 to 32580\n",
      "Data columns (total 18 columns):\n",
      " #   Column                      Non-Null Count  Dtype   \n",
      "---  ------                      --------------  -----   \n",
      " 0   person_age                  32581 non-null  int64   \n",
      " 1   person_income               32581 non-null  int64   \n",
      " 2   person_home_ownership       32581 non-null  object  \n",
      " 3   person_emp_length           32581 non-null  float64 \n",
      " 4   loan_intent                 32581 non-null  object  \n",
      " 5   loan_grade                  32581 non-null  object  \n",
      " 6   loan_amnt                   32581 non-null  int64   \n",
      " 7   loan_int_rate               32581 non-null  float64 \n",
      " 8   loan_status                 32581 non-null  int64   \n",
      " 9   loan_percent_income         32581 non-null  float64 \n",
      " 10  cb_person_default_on_file   32581 non-null  object  \n",
      " 11  cb_person_cred_hist_length  32581 non-null  int64   \n",
      " 12  loan_group                  32581 non-null  category\n",
      " 13  Income_range                32581 non-null  category\n",
      " 14  age_range                   32574 non-null  category\n",
      " 15  loan_to_income_ratio        32581 non-null  float64 \n",
      " 16  loan_to_emp_length_ratio    32581 non-null  float64 \n",
      " 17  int_rate_to_loan_amt_ratio  32581 non-null  float64 \n",
      "dtypes: category(3), float64(6), int64(5), object(4)\n",
      "memory usage: 3.8+ MB\n"
     ]
    }
   ],
   "source": [
    "loan_df.info()"
   ]
  },
  {
   "cell_type": "markdown",
   "id": "fb02a790-32e9-42d6-a8f7-d3aa19f54c29",
   "metadata": {},
   "source": [
    "DATA PREPROCESSING"
   ]
  },
  {
   "cell_type": "code",
   "execution_count": 197,
   "id": "a1619e10-d5c4-4e85-a244-4e9775aadf5d",
   "metadata": {
    "tags": []
   },
   "outputs": [],
   "source": [
    "X = loan_df.drop(['loan_status'], axis=1)\n",
    "Y = loan_df['loan_status']"
   ]
  },
  {
   "cell_type": "code",
   "execution_count": 198,
   "id": "ff002548-17c7-410b-93c8-b2a2354973f3",
   "metadata": {
    "tags": []
   },
   "outputs": [
    {
     "name": "stdout",
     "output_type": "stream",
     "text": [
      "(26064, 17) (6517, 17)\n"
     ]
    }
   ],
   "source": [
    "from sklearn.model_selection import train_test_split\n",
    "x_train, x_test, y_train, y_test = train_test_split(X,Y,test_size=0.2,random_state=12)\n",
    "\n",
    "\n",
    "print(x_train.shape,x_test.shape)"
   ]
  },
  {
   "cell_type": "code",
   "execution_count": null,
   "id": "70082237-dfda-4b91-a6ce-e10e1db65925",
   "metadata": {},
   "outputs": [],
   "source": []
  },
  {
   "cell_type": "code",
   "execution_count": 199,
   "id": "48af8353-39d0-4163-96ec-8113bcc0b4ed",
   "metadata": {
    "tags": []
   },
   "outputs": [],
   "source": [
    "ohe_columns = ['person_home_ownership', 'loan_intent', 'loan_grade', \n",
    "               'cb_person_default_on_file', 'age_range', 'loan_group', 'Income_range']\n",
    "\n",
    "# Step 4: One-Hot Encoding categorical variables\n",
    "ohe = OneHotEncoder(sparse=False)  # `sparse=False` to get a dense array output\n",
    "ohe.fit(x_train[ohe_columns])\n",
    "\n",
    "# Get the column names for the one-hot encoded columns\n",
    "merge_ohe_col = ohe.get_feature_names_out(ohe_columns)\n",
    "\n",
    "# Transform the data and convert to DataFrame\n",
    "ohe_data = pd.DataFrame(ohe.transform(x_train[ohe_columns]), columns=merge_ohe_col)\n",
    "ohe_data2 = pd.DataFrame(ohe.transform(x_test[ohe_columns]), columns=merge_ohe_col)\n",
    "\n",
    "# Reset index to concatenate correctly\n",
    "ohe_data.index = x_train.index\n",
    "ohe_data2.index = x_test.index"
   ]
  },
  {
   "cell_type": "code",
   "execution_count": 200,
   "id": "5a41f98f-ef43-4e33-921c-1f6ea04b1681",
   "metadata": {
    "tags": []
   },
   "outputs": [
    {
     "data": {
      "text/plain": [
       "Index(['person_home_ownership_MORTGAGE', 'person_home_ownership_OTHER',\n",
       "       'person_home_ownership_OWN', 'person_home_ownership_RENT',\n",
       "       'loan_intent_DEBTCONSOLIDATION', 'loan_intent_EDUCATION',\n",
       "       'loan_intent_HOMEIMPROVEMENT', 'loan_intent_MEDICAL',\n",
       "       'loan_intent_PERSONAL', 'loan_intent_VENTURE', 'loan_grade_A',\n",
       "       'loan_grade_B', 'loan_grade_C', 'loan_grade_D', 'loan_grade_E',\n",
       "       'loan_grade_F', 'loan_grade_G', 'cb_person_default_on_file_N',\n",
       "       'cb_person_default_on_file_Y', 'age_range_10-20', 'age_range_20-30',\n",
       "       'age_range_30-40', 'age_range_40-50', 'age_range_50-60',\n",
       "       'age_range_60-70', 'age_range_70-80', 'age_range_nan',\n",
       "       'loan_group_large', 'loan_group_medium', 'loan_group_small',\n",
       "       'loan_group_very large', 'Income_range_high',\n",
       "       'Income_range_high-middle', 'Income_range_low',\n",
       "       'Income_range_low-middle', 'Income_range_middle'],\n",
       "      dtype='object')"
      ]
     },
     "execution_count": 200,
     "metadata": {},
     "output_type": "execute_result"
    }
   ],
   "source": [
    "ohe_data.columns"
   ]
  },
  {
   "cell_type": "code",
   "execution_count": 201,
   "id": "411b3528-02d7-4974-ac2a-476cf579ba75",
   "metadata": {
    "tags": []
   },
   "outputs": [],
   "source": [
    "# Drop original categorical columns before concatenation\n",
    "x_train_dropped = x_train.drop(ohe_columns, axis=1)\n",
    "x_test_dropped = x_test.drop(ohe_columns, axis=1)\n",
    "\n",
    "# Concatenate the one-hot encoded columns with the remaining features\n",
    "X_new = pd.concat([ohe_data, x_train_dropped], axis=1)\n",
    "X_new_test = pd.concat([ohe_data2, x_test_dropped], axis=1)\n"
   ]
  },
  {
   "cell_type": "code",
   "execution_count": 202,
   "id": "9c708d8e-b431-4952-a35c-ce6901a298c6",
   "metadata": {
    "tags": []
   },
   "outputs": [
    {
     "data": {
      "text/html": [
       "<div>\n",
       "<style scoped>\n",
       "    .dataframe tbody tr th:only-of-type {\n",
       "        vertical-align: middle;\n",
       "    }\n",
       "\n",
       "    .dataframe tbody tr th {\n",
       "        vertical-align: top;\n",
       "    }\n",
       "\n",
       "    .dataframe thead th {\n",
       "        text-align: right;\n",
       "    }\n",
       "</style>\n",
       "<table border=\"1\" class=\"dataframe\">\n",
       "  <thead>\n",
       "    <tr style=\"text-align: right;\">\n",
       "      <th></th>\n",
       "      <th>person_home_ownership_MORTGAGE</th>\n",
       "      <th>person_home_ownership_OTHER</th>\n",
       "      <th>person_home_ownership_OWN</th>\n",
       "      <th>person_home_ownership_RENT</th>\n",
       "      <th>loan_intent_DEBTCONSOLIDATION</th>\n",
       "      <th>loan_intent_EDUCATION</th>\n",
       "      <th>loan_intent_HOMEIMPROVEMENT</th>\n",
       "      <th>loan_intent_MEDICAL</th>\n",
       "      <th>loan_intent_PERSONAL</th>\n",
       "      <th>loan_intent_VENTURE</th>\n",
       "      <th>...</th>\n",
       "      <th>person_age</th>\n",
       "      <th>person_income</th>\n",
       "      <th>person_emp_length</th>\n",
       "      <th>loan_amnt</th>\n",
       "      <th>loan_int_rate</th>\n",
       "      <th>loan_percent_income</th>\n",
       "      <th>cb_person_cred_hist_length</th>\n",
       "      <th>loan_to_income_ratio</th>\n",
       "      <th>loan_to_emp_length_ratio</th>\n",
       "      <th>int_rate_to_loan_amt_ratio</th>\n",
       "    </tr>\n",
       "  </thead>\n",
       "  <tbody>\n",
       "    <tr>\n",
       "      <th>13117</th>\n",
       "      <td>0.0</td>\n",
       "      <td>0.0</td>\n",
       "      <td>0.0</td>\n",
       "      <td>1.0</td>\n",
       "      <td>1.0</td>\n",
       "      <td>0.0</td>\n",
       "      <td>0.0</td>\n",
       "      <td>0.0</td>\n",
       "      <td>0.0</td>\n",
       "      <td>0.0</td>\n",
       "      <td>...</td>\n",
       "      <td>22</td>\n",
       "      <td>96000</td>\n",
       "      <td>3.0</td>\n",
       "      <td>12000</td>\n",
       "      <td>13.610000</td>\n",
       "      <td>0.13</td>\n",
       "      <td>3</td>\n",
       "      <td>0.125000</td>\n",
       "      <td>0.000250</td>\n",
       "      <td>0.001134</td>\n",
       "    </tr>\n",
       "    <tr>\n",
       "      <th>16491</th>\n",
       "      <td>1.0</td>\n",
       "      <td>0.0</td>\n",
       "      <td>0.0</td>\n",
       "      <td>0.0</td>\n",
       "      <td>0.0</td>\n",
       "      <td>1.0</td>\n",
       "      <td>0.0</td>\n",
       "      <td>0.0</td>\n",
       "      <td>0.0</td>\n",
       "      <td>0.0</td>\n",
       "      <td>...</td>\n",
       "      <td>24</td>\n",
       "      <td>72000</td>\n",
       "      <td>8.0</td>\n",
       "      <td>14000</td>\n",
       "      <td>14.650000</td>\n",
       "      <td>0.19</td>\n",
       "      <td>4</td>\n",
       "      <td>0.194444</td>\n",
       "      <td>0.000571</td>\n",
       "      <td>0.001046</td>\n",
       "    </tr>\n",
       "    <tr>\n",
       "      <th>31503</th>\n",
       "      <td>1.0</td>\n",
       "      <td>0.0</td>\n",
       "      <td>0.0</td>\n",
       "      <td>0.0</td>\n",
       "      <td>0.0</td>\n",
       "      <td>0.0</td>\n",
       "      <td>1.0</td>\n",
       "      <td>0.0</td>\n",
       "      <td>0.0</td>\n",
       "      <td>0.0</td>\n",
       "      <td>...</td>\n",
       "      <td>37</td>\n",
       "      <td>88000</td>\n",
       "      <td>3.0</td>\n",
       "      <td>6000</td>\n",
       "      <td>11.990000</td>\n",
       "      <td>0.07</td>\n",
       "      <td>12</td>\n",
       "      <td>0.068182</td>\n",
       "      <td>0.000500</td>\n",
       "      <td>0.001998</td>\n",
       "    </tr>\n",
       "    <tr>\n",
       "      <th>21651</th>\n",
       "      <td>0.0</td>\n",
       "      <td>0.0</td>\n",
       "      <td>0.0</td>\n",
       "      <td>1.0</td>\n",
       "      <td>0.0</td>\n",
       "      <td>0.0</td>\n",
       "      <td>0.0</td>\n",
       "      <td>1.0</td>\n",
       "      <td>0.0</td>\n",
       "      <td>0.0</td>\n",
       "      <td>...</td>\n",
       "      <td>32</td>\n",
       "      <td>36000</td>\n",
       "      <td>4.0</td>\n",
       "      <td>6000</td>\n",
       "      <td>16.070000</td>\n",
       "      <td>0.17</td>\n",
       "      <td>10</td>\n",
       "      <td>0.166667</td>\n",
       "      <td>0.000667</td>\n",
       "      <td>0.002678</td>\n",
       "    </tr>\n",
       "    <tr>\n",
       "      <th>24726</th>\n",
       "      <td>0.0</td>\n",
       "      <td>0.0</td>\n",
       "      <td>0.0</td>\n",
       "      <td>1.0</td>\n",
       "      <td>0.0</td>\n",
       "      <td>0.0</td>\n",
       "      <td>0.0</td>\n",
       "      <td>0.0</td>\n",
       "      <td>1.0</td>\n",
       "      <td>0.0</td>\n",
       "      <td>...</td>\n",
       "      <td>34</td>\n",
       "      <td>75000</td>\n",
       "      <td>2.0</td>\n",
       "      <td>10000</td>\n",
       "      <td>10.000000</td>\n",
       "      <td>0.13</td>\n",
       "      <td>8</td>\n",
       "      <td>0.133333</td>\n",
       "      <td>0.000200</td>\n",
       "      <td>0.001000</td>\n",
       "    </tr>\n",
       "    <tr>\n",
       "      <th>...</th>\n",
       "      <td>...</td>\n",
       "      <td>...</td>\n",
       "      <td>...</td>\n",
       "      <td>...</td>\n",
       "      <td>...</td>\n",
       "      <td>...</td>\n",
       "      <td>...</td>\n",
       "      <td>...</td>\n",
       "      <td>...</td>\n",
       "      <td>...</td>\n",
       "      <td>...</td>\n",
       "      <td>...</td>\n",
       "      <td>...</td>\n",
       "      <td>...</td>\n",
       "      <td>...</td>\n",
       "      <td>...</td>\n",
       "      <td>...</td>\n",
       "      <td>...</td>\n",
       "      <td>...</td>\n",
       "      <td>...</td>\n",
       "      <td>...</td>\n",
       "    </tr>\n",
       "    <tr>\n",
       "      <th>7409</th>\n",
       "      <td>0.0</td>\n",
       "      <td>0.0</td>\n",
       "      <td>0.0</td>\n",
       "      <td>1.0</td>\n",
       "      <td>0.0</td>\n",
       "      <td>0.0</td>\n",
       "      <td>1.0</td>\n",
       "      <td>0.0</td>\n",
       "      <td>0.0</td>\n",
       "      <td>0.0</td>\n",
       "      <td>...</td>\n",
       "      <td>24</td>\n",
       "      <td>52000</td>\n",
       "      <td>3.0</td>\n",
       "      <td>6600</td>\n",
       "      <td>11.011695</td>\n",
       "      <td>0.13</td>\n",
       "      <td>3</td>\n",
       "      <td>0.126923</td>\n",
       "      <td>0.000455</td>\n",
       "      <td>0.001668</td>\n",
       "    </tr>\n",
       "    <tr>\n",
       "      <th>19709</th>\n",
       "      <td>1.0</td>\n",
       "      <td>0.0</td>\n",
       "      <td>0.0</td>\n",
       "      <td>0.0</td>\n",
       "      <td>0.0</td>\n",
       "      <td>0.0</td>\n",
       "      <td>0.0</td>\n",
       "      <td>0.0</td>\n",
       "      <td>0.0</td>\n",
       "      <td>1.0</td>\n",
       "      <td>...</td>\n",
       "      <td>27</td>\n",
       "      <td>35088</td>\n",
       "      <td>7.0</td>\n",
       "      <td>12000</td>\n",
       "      <td>8.940000</td>\n",
       "      <td>0.34</td>\n",
       "      <td>8</td>\n",
       "      <td>0.341997</td>\n",
       "      <td>0.000583</td>\n",
       "      <td>0.000745</td>\n",
       "    </tr>\n",
       "    <tr>\n",
       "      <th>25990</th>\n",
       "      <td>0.0</td>\n",
       "      <td>0.0</td>\n",
       "      <td>0.0</td>\n",
       "      <td>1.0</td>\n",
       "      <td>0.0</td>\n",
       "      <td>0.0</td>\n",
       "      <td>0.0</td>\n",
       "      <td>0.0</td>\n",
       "      <td>1.0</td>\n",
       "      <td>0.0</td>\n",
       "      <td>...</td>\n",
       "      <td>27</td>\n",
       "      <td>104000</td>\n",
       "      <td>8.0</td>\n",
       "      <td>12800</td>\n",
       "      <td>7.290000</td>\n",
       "      <td>0.12</td>\n",
       "      <td>7</td>\n",
       "      <td>0.123077</td>\n",
       "      <td>0.000625</td>\n",
       "      <td>0.000570</td>\n",
       "    </tr>\n",
       "    <tr>\n",
       "      <th>5787</th>\n",
       "      <td>0.0</td>\n",
       "      <td>0.0</td>\n",
       "      <td>0.0</td>\n",
       "      <td>1.0</td>\n",
       "      <td>0.0</td>\n",
       "      <td>1.0</td>\n",
       "      <td>0.0</td>\n",
       "      <td>0.0</td>\n",
       "      <td>0.0</td>\n",
       "      <td>0.0</td>\n",
       "      <td>...</td>\n",
       "      <td>22</td>\n",
       "      <td>12000</td>\n",
       "      <td>5.0</td>\n",
       "      <td>5500</td>\n",
       "      <td>10.360000</td>\n",
       "      <td>0.46</td>\n",
       "      <td>4</td>\n",
       "      <td>0.458333</td>\n",
       "      <td>0.000909</td>\n",
       "      <td>0.001884</td>\n",
       "    </tr>\n",
       "    <tr>\n",
       "      <th>14155</th>\n",
       "      <td>1.0</td>\n",
       "      <td>0.0</td>\n",
       "      <td>0.0</td>\n",
       "      <td>0.0</td>\n",
       "      <td>0.0</td>\n",
       "      <td>0.0</td>\n",
       "      <td>0.0</td>\n",
       "      <td>0.0</td>\n",
       "      <td>0.0</td>\n",
       "      <td>1.0</td>\n",
       "      <td>...</td>\n",
       "      <td>23</td>\n",
       "      <td>100000</td>\n",
       "      <td>1.0</td>\n",
       "      <td>25000</td>\n",
       "      <td>11.580000</td>\n",
       "      <td>0.25</td>\n",
       "      <td>3</td>\n",
       "      <td>0.250000</td>\n",
       "      <td>0.000040</td>\n",
       "      <td>0.000463</td>\n",
       "    </tr>\n",
       "  </tbody>\n",
       "</table>\n",
       "<p>26064 rows × 46 columns</p>\n",
       "</div>"
      ],
      "text/plain": [
       "       person_home_ownership_MORTGAGE  person_home_ownership_OTHER  \\\n",
       "13117                             0.0                          0.0   \n",
       "16491                             1.0                          0.0   \n",
       "31503                             1.0                          0.0   \n",
       "21651                             0.0                          0.0   \n",
       "24726                             0.0                          0.0   \n",
       "...                               ...                          ...   \n",
       "7409                              0.0                          0.0   \n",
       "19709                             1.0                          0.0   \n",
       "25990                             0.0                          0.0   \n",
       "5787                              0.0                          0.0   \n",
       "14155                             1.0                          0.0   \n",
       "\n",
       "       person_home_ownership_OWN  person_home_ownership_RENT  \\\n",
       "13117                        0.0                         1.0   \n",
       "16491                        0.0                         0.0   \n",
       "31503                        0.0                         0.0   \n",
       "21651                        0.0                         1.0   \n",
       "24726                        0.0                         1.0   \n",
       "...                          ...                         ...   \n",
       "7409                         0.0                         1.0   \n",
       "19709                        0.0                         0.0   \n",
       "25990                        0.0                         1.0   \n",
       "5787                         0.0                         1.0   \n",
       "14155                        0.0                         0.0   \n",
       "\n",
       "       loan_intent_DEBTCONSOLIDATION  loan_intent_EDUCATION  \\\n",
       "13117                            1.0                    0.0   \n",
       "16491                            0.0                    1.0   \n",
       "31503                            0.0                    0.0   \n",
       "21651                            0.0                    0.0   \n",
       "24726                            0.0                    0.0   \n",
       "...                              ...                    ...   \n",
       "7409                             0.0                    0.0   \n",
       "19709                            0.0                    0.0   \n",
       "25990                            0.0                    0.0   \n",
       "5787                             0.0                    1.0   \n",
       "14155                            0.0                    0.0   \n",
       "\n",
       "       loan_intent_HOMEIMPROVEMENT  loan_intent_MEDICAL  loan_intent_PERSONAL  \\\n",
       "13117                          0.0                  0.0                   0.0   \n",
       "16491                          0.0                  0.0                   0.0   \n",
       "31503                          1.0                  0.0                   0.0   \n",
       "21651                          0.0                  1.0                   0.0   \n",
       "24726                          0.0                  0.0                   1.0   \n",
       "...                            ...                  ...                   ...   \n",
       "7409                           1.0                  0.0                   0.0   \n",
       "19709                          0.0                  0.0                   0.0   \n",
       "25990                          0.0                  0.0                   1.0   \n",
       "5787                           0.0                  0.0                   0.0   \n",
       "14155                          0.0                  0.0                   0.0   \n",
       "\n",
       "       loan_intent_VENTURE  ...  person_age  person_income  person_emp_length  \\\n",
       "13117                  0.0  ...          22          96000                3.0   \n",
       "16491                  0.0  ...          24          72000                8.0   \n",
       "31503                  0.0  ...          37          88000                3.0   \n",
       "21651                  0.0  ...          32          36000                4.0   \n",
       "24726                  0.0  ...          34          75000                2.0   \n",
       "...                    ...  ...         ...            ...                ...   \n",
       "7409                   0.0  ...          24          52000                3.0   \n",
       "19709                  1.0  ...          27          35088                7.0   \n",
       "25990                  0.0  ...          27         104000                8.0   \n",
       "5787                   0.0  ...          22          12000                5.0   \n",
       "14155                  1.0  ...          23         100000                1.0   \n",
       "\n",
       "       loan_amnt  loan_int_rate  loan_percent_income  \\\n",
       "13117      12000      13.610000                 0.13   \n",
       "16491      14000      14.650000                 0.19   \n",
       "31503       6000      11.990000                 0.07   \n",
       "21651       6000      16.070000                 0.17   \n",
       "24726      10000      10.000000                 0.13   \n",
       "...          ...            ...                  ...   \n",
       "7409        6600      11.011695                 0.13   \n",
       "19709      12000       8.940000                 0.34   \n",
       "25990      12800       7.290000                 0.12   \n",
       "5787        5500      10.360000                 0.46   \n",
       "14155      25000      11.580000                 0.25   \n",
       "\n",
       "       cb_person_cred_hist_length  loan_to_income_ratio  \\\n",
       "13117                           3              0.125000   \n",
       "16491                           4              0.194444   \n",
       "31503                          12              0.068182   \n",
       "21651                          10              0.166667   \n",
       "24726                           8              0.133333   \n",
       "...                           ...                   ...   \n",
       "7409                            3              0.126923   \n",
       "19709                           8              0.341997   \n",
       "25990                           7              0.123077   \n",
       "5787                            4              0.458333   \n",
       "14155                           3              0.250000   \n",
       "\n",
       "       loan_to_emp_length_ratio  int_rate_to_loan_amt_ratio  \n",
       "13117                  0.000250                    0.001134  \n",
       "16491                  0.000571                    0.001046  \n",
       "31503                  0.000500                    0.001998  \n",
       "21651                  0.000667                    0.002678  \n",
       "24726                  0.000200                    0.001000  \n",
       "...                         ...                         ...  \n",
       "7409                   0.000455                    0.001668  \n",
       "19709                  0.000583                    0.000745  \n",
       "25990                  0.000625                    0.000570  \n",
       "5787                   0.000909                    0.001884  \n",
       "14155                  0.000040                    0.000463  \n",
       "\n",
       "[26064 rows x 46 columns]"
      ]
     },
     "execution_count": 202,
     "metadata": {},
     "output_type": "execute_result"
    }
   ],
   "source": [
    "X_new"
   ]
  },
  {
   "cell_type": "code",
   "execution_count": 203,
   "id": "a489c6d7-2c22-4024-96cf-1444101a17b4",
   "metadata": {
    "tags": []
   },
   "outputs": [],
   "source": [
    "from sklearn.preprocessing import MinMaxScaler,StandardScaler,RobustScaler"
   ]
  },
  {
   "cell_type": "code",
   "execution_count": 204,
   "id": "63cfacf5-a703-475e-bb31-201d99290185",
   "metadata": {
    "tags": []
   },
   "outputs": [],
   "source": [
    "# Define columns for scaling\n",
    "normal_col = ['person_income','person_age','person_emp_length', 'loan_amnt','loan_int_rate','cb_person_cred_hist_length','loan_percent_income', 'loan_to_emp_length_ratio', 'int_rate_to_loan_amt_ratio']\n",
    "uniform_col = []  # Add columns if needed\n",
    "bimodal_col = []  # Add columns if needed\n",
    "\n",
    "# Apply StandardScaler to normally distributed columns\n",
    "scaler_normal = StandardScaler()\n",
    "X_new.loc[:, normal_col] = scaler_normal.fit_transform(X_new.loc[:, normal_col])\n",
    "X_new_test.loc[:, normal_col] = scaler_normal.transform(X_new_test.loc[:, normal_col])\n",
    "\n",
    "# Placeholder for other scalers\n",
    "# Apply MinMaxScaler to uniformly distributed columns if any\n",
    "if uniform_col:\n",
    "    scaler_uniform = MinMaxScaler()\n",
    "    X_new.loc[:, uniform_col] = scaler_uniform.fit_transform(X_new.loc[:, uniform_col])\n",
    "    X_new_test.loc[:, uniform_col] = scaler_uniform.transform(X_new_test.loc[:, uniform_col])\n",
    "\n",
    "# Apply RobustScaler to bimodal distributed columns if any\n",
    "if bimodal_col:\n",
    "    scaler_bimodal = RobustScaler()\n",
    "    X_new.loc[:, bimodal_col] = scaler_bimodal.fit_transform(X_new.loc[:, bimodal_col])\n",
    "    X_new_test.loc[:, bimodal_col] = scaler_bimodal.transform(X_new_test.loc[:, bimodal_col])\n"
   ]
  },
  {
   "cell_type": "code",
   "execution_count": 205,
   "id": "874f9c7b-eeb4-4615-9bd5-b77cb138dcde",
   "metadata": {
    "tags": []
   },
   "outputs": [
    {
     "data": {
      "text/plain": [
       "Index(['person_home_ownership_MORTGAGE', 'person_home_ownership_OTHER',\n",
       "       'person_home_ownership_OWN', 'person_home_ownership_RENT',\n",
       "       'loan_intent_DEBTCONSOLIDATION', 'loan_intent_EDUCATION',\n",
       "       'loan_intent_HOMEIMPROVEMENT', 'loan_intent_MEDICAL',\n",
       "       'loan_intent_PERSONAL', 'loan_intent_VENTURE', 'loan_grade_A',\n",
       "       'loan_grade_B', 'loan_grade_C', 'loan_grade_D', 'loan_grade_E',\n",
       "       'loan_grade_F', 'loan_grade_G', 'cb_person_default_on_file_N',\n",
       "       'cb_person_default_on_file_Y', 'age_range_10-20', 'age_range_20-30',\n",
       "       'age_range_30-40', 'age_range_40-50', 'age_range_50-60',\n",
       "       'age_range_60-70', 'age_range_70-80', 'age_range_nan',\n",
       "       'loan_group_large', 'loan_group_medium', 'loan_group_small',\n",
       "       'loan_group_very large', 'Income_range_high',\n",
       "       'Income_range_high-middle', 'Income_range_low',\n",
       "       'Income_range_low-middle', 'Income_range_middle', 'person_age',\n",
       "       'person_income', 'person_emp_length', 'loan_amnt', 'loan_int_rate',\n",
       "       'loan_percent_income', 'cb_person_cred_hist_length',\n",
       "       'loan_to_income_ratio', 'loan_to_emp_length_ratio',\n",
       "       'int_rate_to_loan_amt_ratio'],\n",
       "      dtype='object')"
      ]
     },
     "execution_count": 205,
     "metadata": {},
     "output_type": "execute_result"
    }
   ],
   "source": [
    "X_new.columns"
   ]
  },
  {
   "cell_type": "code",
   "execution_count": 206,
   "id": "50c2ab72-eb0f-4ba5-a895-ace4e3c03ffe",
   "metadata": {
    "tags": []
   },
   "outputs": [],
   "source": [
    "from sklearn.linear_model import LinearRegression\n",
    "from sklearn.svm import SVC\n",
    "from sklearn.naive_bayes import MultinomialNB\n",
    "from sklearn.tree import DecisionTreeClassifier\n",
    "from sklearn.neighbors import KNeighborsClassifier\n",
    "from sklearn.ensemble import RandomForestClassifier\n",
    "from sklearn.ensemble import AdaBoostClassifier\n",
    "from sklearn.ensemble import BaggingClassifier\n",
    "from sklearn.ensemble import ExtraTreesClassifier\n",
    "from sklearn.ensemble import GradientBoostingClassifier\n",
    "from xgboost import XGBClassifier\n",
    "from sklearn.linear_model import LogisticRegression\n",
    "from catboost import CatBoostClassifier\n",
    "import lightgbm as lgb\n",
    "from lightgbm import LGBMRegressor\n",
    "from sklearn.metrics import make_scorer, mean_absolute_error\n",
    "from sklearn.metrics import mean_squared_error as MSE\n",
    "#from hyperopt import hp, fmin, tpe\n",
    "from sklearn.model_selection import GridSearchCV, StratifiedKFold\n",
    "from bayes_opt import BayesianOptimization\n",
    "from sklearn.model_selection import KFold, cross_val_score\n",
    "from lightgbm import LGBMClassifier\n"
   ]
  },
  {
   "cell_type": "code",
   "execution_count": 207,
   "id": "02c1c9b6-46d5-478e-90ed-c8c61af1d7c2",
   "metadata": {
    "tags": []
   },
   "outputs": [],
   "source": [
    "svc = SVC()\n",
    "#knc = KNeighborsClassifier() #algorithm='ball_tree', leaf_size=10, n_neighbors=18, p=1, weights='distance'\n",
    "mnb = MultinomialNB()\n",
    "dtc = DecisionTreeClassifier()\n",
    "lrc = LogisticRegression()\n",
    "rfc = RandomForestClassifier()\n",
    "abc = AdaBoostClassifier()\n",
    "bc = BaggingClassifier()\n",
    "etc = ExtraTreesClassifier()\n",
    "gbdt = GradientBoostingClassifier()\n",
    "xgb = XGBClassifier()\n",
    "cat = CatBoostClassifier(verbose=0) \n",
    "lgb = lgb.LGBMClassifier() "
   ]
  },
  {
   "cell_type": "code",
   "execution_count": 208,
   "id": "14d4f7c3-ec4c-43b6-b161-7da53b672530",
   "metadata": {
    "tags": []
   },
   "outputs": [],
   "source": [
    "clf = {\n",
    "   # 'KN' : knc, \n",
    "    'xgb':xgb,\n",
    "    'cat':cat,\n",
    "    'lgb':lgb\n",
    "}"
   ]
  },
  {
   "cell_type": "code",
   "execution_count": 209,
   "id": "e208ba79-33c0-4bf8-936b-811aa35a8304",
   "metadata": {
    "tags": []
   },
   "outputs": [],
   "source": [
    "from sklearn.metrics import precision_score, accuracy_score, recall_score, confusion_matrix\n",
    "\n",
    "def train_classifier(clf, X_train, y_train, X_test, y_test):\n",
    "    clf.fit(X_train, y_train)\n",
    "    y_pred = clf.predict(X_test)\n",
    "    \n",
    "    accuracy = accuracy_score(y_test, y_pred)\n",
    "    precision = precision_score(y_test, y_pred)\n",
    "    recall = recall_score(y_test, y_pred)\n",
    "    \n",
    "    # Calculate confusion matrix to get TN and FP for specificity\n",
    "    tn, fp, fn, tp = confusion_matrix(y_test, y_pred).ravel()\n",
    "    specificity = tn / (tn + fp)\n",
    "    \n",
    "    return accuracy, precision, recall, specificity\n"
   ]
  },
  {
   "cell_type": "code",
   "execution_count": 210,
   "id": "72101029-0db9-4e3a-bc5e-3672c498d9b5",
   "metadata": {
    "tags": []
   },
   "outputs": [],
   "source": [
    "X_new = X_new.drop(columns=[col for col in X_new.columns if pd.isna(col)], axis=1)\n",
    "X_new_test = X_new_test.drop(columns=[col for col in X_new_test.columns if pd.isna(col)], axis=1)"
   ]
  },
  {
   "cell_type": "code",
   "execution_count": 211,
   "id": "cf6c0b59-717e-4afc-a0ca-bc99619995e1",
   "metadata": {
    "tags": []
   },
   "outputs": [
    {
     "name": "stdout",
     "output_type": "stream",
     "text": [
      "For  xgb\n",
      "Accuracy -  0.9366272824919442\n",
      "Precision -  0.9587155963302753\n",
      "Recall -  0.7395612172682237\n",
      "Specificity -  0.9911833855799373\n",
      "\n",
      "For  cat\n",
      "Accuracy -  0.935246278962713\n",
      "Precision -  0.9732569245463228\n",
      "Recall -  0.7211606510969568\n",
      "Specificity -  0.9945141065830722\n",
      "\n",
      "[LightGBM] [Warning] Found whitespace in feature_names, replace with underlines\n",
      "[LightGBM] [Info] Number of positive: 5695, number of negative: 20369\n",
      "[LightGBM] [Info] Auto-choosing row-wise multi-threading, the overhead of testing was 0.003168 seconds.\n",
      "You can set `force_row_wise=true` to remove the overhead.\n",
      "And if memory is not enough, you can set `force_col_wise=true`.\n",
      "[LightGBM] [Info] Total Bins 1771\n",
      "[LightGBM] [Info] Number of data points in the train set: 26064, number of used features: 43\n",
      "[LightGBM] [Info] [binary:BoostFromScore]: pavg=0.218501 -> initscore=-1.274426\n",
      "[LightGBM] [Info] Start training from score -1.274426\n",
      "For  lgb\n",
      "Accuracy -  0.9343256099432254\n",
      "Precision -  0.9703915950334289\n",
      "Recall -  0.719037508846426\n",
      "Specificity -  0.9939263322884012\n",
      "\n"
     ]
    }
   ],
   "source": [
    "accuracy_scores = []\n",
    "precision_scores = []\n",
    "recall_scores = []\n",
    "specificity_scores = []\n",
    "\n",
    "for name,clf in clf.items():\n",
    "    \n",
    "    current_accuracy,current_precision, current_recall, current_specificity = train_classifier(clf, X_new,y_train,X_new_test,y_test)\n",
    "    \n",
    "    print(\"For \",name)\n",
    "    print(\"Accuracy - \",current_accuracy)\n",
    "    print(\"Precision - \",current_precision)\n",
    "    print(\"Recall - \",current_recall)\n",
    "    print(\"Specificity - \",current_specificity)\n",
    "    print()\n",
    "    \n",
    "    accuracy_scores.append(current_accuracy)\n",
    "    precision_scores.append(current_precision)\n",
    "    recall_scores.append(current_recall)\n",
    "    specificity_scores.append(current_specificity)"
   ]
  },
  {
   "cell_type": "code",
   "execution_count": 212,
   "id": "9f407555-2476-45e1-ab06-ea447dc018c0",
   "metadata": {
    "tags": []
   },
   "outputs": [],
   "source": [
    "import matplotlib.pyplot as plt\n",
    "from sklearn.metrics import roc_curve, auc"
   ]
  },
  {
   "cell_type": "code",
   "execution_count": 213,
   "id": "c595b19d-9760-4b1c-b160-551bcd81ac54",
   "metadata": {
    "tags": []
   },
   "outputs": [
    {
     "name": "stdout",
     "output_type": "stream",
     "text": [
      "[LightGBM] [Warning] Found whitespace in feature_names, replace with underlines\n",
      "[LightGBM] [Info] Number of positive: 5695, number of negative: 20369\n",
      "[LightGBM] [Info] Auto-choosing row-wise multi-threading, the overhead of testing was 0.010212 seconds.\n",
      "You can set `force_row_wise=true` to remove the overhead.\n",
      "And if memory is not enough, you can set `force_col_wise=true`.\n",
      "[LightGBM] [Info] Total Bins 1771\n",
      "[LightGBM] [Info] Number of data points in the train set: 26064, number of used features: 43\n",
      "[LightGBM] [Info] [binary:BoostFromScore]: pavg=0.218501 -> initscore=-1.274426\n",
      "[LightGBM] [Info] Start training from score -1.274426\n"
     ]
    },
    {
     "data": {
      "image/png": "[encoded data removed]",
      "text/plain": [
       "<Figure size 800x600 with 1 Axes>"
      ]
     },
     "metadata": {},
     "output_type": "display_data"
    }
   ],
   "source": [
    "import matplotlib.pyplot as plt\n",
    "import seaborn as sns\n",
    "from sklearn.metrics import roc_curve, auc\n",
    "\n",
    "# Assuming clf is your trained classifier\n",
    "# and train_classifier is a function that trains and returns the trained classifier\n",
    "clf = LGBMClassifier()  # or whichever classifier you are using\n",
    "\n",
    "# Train the classifier (replace this with your actual training code)\n",
    "current_accuracy, current_precision, current_recall, current_specificity = train_classifier(clf, X_new, y_train, X_new_test, y_test)\n",
    "\n",
    "# Get the predicted probabilities for the positive class\n",
    "y_pred_prob = clf.predict_proba(X_new_test)[:, 1]\n",
    "\n",
    "# Calculate the FPR and TPR for the ROC curve\n",
    "fpr, tpr, _ = roc_curve(y_test, y_pred_prob)\n",
    "roc_auc = auc(fpr, tpr)\n",
    "\n",
    "# Plotting the ROC curve with Seaborn styling\n",
    "#sns.set(style=\"whitegrid\")\n",
    "plt.figure(figsize=(8, 6))\n",
    "\n",
    "# Plot the ROC curve\n",
    "plt.plot(fpr, tpr, color='darkorange', lw=2, label=f'ROC curve (AUC = {roc_auc:.2f})')\n",
    "\n",
    "# Plotting the diagonal line\n",
    "plt.plot([0, 1], [0, 1], color='navy', lw=2, linestyle='--')\n",
    "\n",
    "# Seaborn styling\n",
    "sns.despine()\n",
    "plt.xlabel('False Positive Rate', fontsize=14)\n",
    "plt.ylabel('True Positive Rate', fontsize=14)\n",
    "plt.title('Receiver Operating Characteristic (ROC) Curve', fontsize=16)\n",
    "plt.legend(loc=\"lower right\", fontsize=12)\n",
    "\n",
    "# Show plot\n",
    "plt.show()\n"
   ]
  },
  {
   "cell_type": "code",
   "execution_count": null,
   "id": "c8d62ee6-2117-4b22-aef1-ea1460adbcc9",
   "metadata": {},
   "outputs": [],
   "source": []
  },
  {
   "cell_type": "code",
   "execution_count": null,
   "id": "f0ca1ff5-4874-4240-8208-be440f369913",
   "metadata": {},
   "outputs": [],
   "source": []
  },
  {
   "cell_type": "code",
   "execution_count": null,
   "id": "a25958c5-1ed4-4c91-9642-b33daa170977",
   "metadata": {},
   "outputs": [],
   "source": []
  },
  {
   "cell_type": "code",
   "execution_count": null,
   "id": "8a6a7d7d-5bfd-4611-81bd-c6ec3b846b84",
   "metadata": {},
   "outputs": [],
   "source": []
  },
  {
   "cell_type": "code",
   "execution_count": null,
   "id": "5d399567-8c5f-49c1-b063-785afa06e06f",
   "metadata": {},
   "outputs": [],
   "source": []
  },
  {
   "cell_type": "code",
   "execution_count": null,
   "id": "2c4b97d7-dea6-4e2e-bf59-c04060186fb5",
   "metadata": {},
   "outputs": [],
   "source": []
  }
 ],
 "metadata": {
  "kernelspec": {
   "display_name": "Python 3 (ipykernel)",
   "language": "python",
   "name": "python3"
  },
  "language_info": {
   "codemirror_mode": {
    "name": "ipython",
    "version": 3
   },
   "file_extension": ".py",
   "mimetype": "text/x-python",
   "name": "python",
   "nbconvert_exporter": "python",
   "pygments_lexer": "ipython3",
   "version": "3.11.5"
  }
 },
 "nbformat": 4,
 "nbformat_minor": 5
}
